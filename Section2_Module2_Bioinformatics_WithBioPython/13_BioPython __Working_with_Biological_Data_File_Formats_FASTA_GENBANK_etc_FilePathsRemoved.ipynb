{
 "cells": [
  {
   "cell_type": "markdown",
   "id": "457c50ee-0816-46a3-8820-7422a9f331c5",
   "metadata": {},
   "source": [
    "# 13. BioPython - Working with Biological Data File Formats - FASTA,GENBANK,etc\n",
    "\n",
    "## Working with File Formats\n",
    "\n",
    "+ FASTA\n",
    "+ GenBank\n",
    "+ PDB\n",
    "+ etc.\n",
    "\n",
    "+ Sample: https://www.ncbi.nlm.nih.gov/nuccore/MN908947\n"
   ]
  },
  {
   "cell_type": "code",
   "execution_count": 8,
   "id": "358821eb-9eba-4760-b1ca-61f322b87d99",
   "metadata": {},
   "outputs": [],
   "source": [
    "# Reading FASTA\n",
    "\n",
    "from Bio import SeqIO"
   ]
  },
  {
   "cell_type": "code",
   "execution_count": 11,
   "id": "1364debf-4473-4cb6-aa17-f1f74d82a0e8",
   "metadata": {},
   "outputs": [
    {
     "name": "stdout",
     "output_type": "stream",
     "text": [
      "ID: MN908947.3\n",
      "Name: MN908947.3\n",
      "Description: MN908947.3 Severe acute respiratory syndrome coronavirus 2 isolate Wuhan-Hu-1, complete genome\n",
      "Number of features: 0\n",
      "Seq('ATTAAAGGTTTATACCTTCCCAGGTAACAAACCAACCAACTTTCGATCTCTTGT...AAA')\n"
     ]
    }
   ],
   "source": [
    "# Load A FASTA\n",
    "\n",
    "# His code is defunct so I found an alternative using: https://biopython.org/wiki/SeqIO\n",
    "\n",
    "with open(\"sequence.fasta\") as handle:\n",
    "    for record in SeqIO.parse(handle, \"fasta\"):\n",
    "        print(record)\n"
   ]
  },
  {
   "cell_type": "code",
   "execution_count": 13,
   "id": "5ffa688c-6fef-4e48-9bd5-467b41abf56e",
   "metadata": {},
   "outputs": [],
   "source": [
    "# Reading the sequence in FASTA\n",
    "\n",
    "dna_record= SeqIO.read(\"sequence.fasta\", \"fasta\")"
   ]
  },
  {
   "cell_type": "code",
   "execution_count": 14,
   "id": "4d7c3067-9a4c-4cd9-bb14-b72b15e9a008",
   "metadata": {},
   "outputs": [],
   "source": [
    "dna_seq = dna_record.seq"
   ]
  },
  {
   "cell_type": "code",
   "execution_count": 15,
   "id": "20e08aef-4c68-4280-9356-260663b16cf4",
   "metadata": {},
   "outputs": [
    {
     "data": {
      "text/plain": [
       "Seq('ATTAAAGGTTTATACCTTCCCAGGTAACAAACCAACCAACTTTCGATCTCTTGT...AAA')"
      ]
     },
     "execution_count": 15,
     "metadata": {},
     "output_type": "execute_result"
    }
   ],
   "source": [
    "dna_seq"
   ]
  },
  {
   "cell_type": "code",
   "execution_count": 18,
   "id": "6b3a659f-4df6-4419-9571-2af82e48d584",
   "metadata": {},
   "outputs": [
    {
     "name": "stdout",
     "output_type": "stream",
     "text": [
      "ID: MN908947.3\n",
      "Name: MN908947\n",
      "Description: Severe acute respiratory syndrome coronavirus 2 isolate Wuhan-Hu-1, complete genome\n",
      "Number of features: 23\n",
      "/molecule_type=ss-RNA\n",
      "/topology=linear\n",
      "/data_file_division=VRL\n",
      "/date=18-MAR-2020\n",
      "/accessions=['MN908947']\n",
      "/sequence_version=3\n",
      "/keywords=['']\n",
      "/source=Severe acute respiratory syndrome coronavirus 2 (SARS-CoV-2)\n",
      "/organism=Severe acute respiratory syndrome coronavirus 2\n",
      "/taxonomy=['Viruses', 'Riboviria', 'Orthornavirae', 'Pisuviricota', 'Pisoniviricetes', 'Nidovirales', 'Cornidovirineae', 'Coronaviridae', 'Orthocoronavirinae', 'Betacoronavirus', 'Sarbecovirus']\n",
      "/references=[Reference(title='A new coronavirus associated with human respiratory disease in China', ...), Reference(title='Direct Submission', ...)]\n",
      "/comment=On Jan 17, 2020 this sequence version replaced MN908947.2.\n",
      "/structured_comment=OrderedDict([('Assembly-Data', OrderedDict([('Assembly Method', 'Megahit v. V1.1.3'), ('Sequencing Technology', 'Illumina')]))])\n",
      "Seq('ATTAAAGGTTTATACCTTCCCAGGTAACAAACCAACCAACTTTCGATCTCTTGT...AAA')\n"
     ]
    }
   ],
   "source": [
    "# Reading GenBank\n",
    "# Loading a GenBank File\n",
    "\n",
    "with open(\"sequence.gb\") as handle:\n",
    "    for record in SeqIO.parse(handle, \"genbank\"):\n",
    "        print(record)\n"
   ]
  },
  {
   "cell_type": "code",
   "execution_count": 20,
   "id": "ccaaf4a3-324e-4862-97eb-3193047d5192",
   "metadata": {},
   "outputs": [],
   "source": [
    "gb_dna_record = SeqIO.read(\"sequence.gb\", \"gb\")"
   ]
  },
  {
   "cell_type": "code",
   "execution_count": 21,
   "id": "bea5b444-436b-485d-ab12-c1835558aa70",
   "metadata": {},
   "outputs": [
    {
     "data": {
      "text/plain": [
       "SeqRecord(seq=Seq('ATTAAAGGTTTATACCTTCCCAGGTAACAAACCAACCAACTTTCGATCTCTTGT...AAA'), id='MN908947.3', name='MN908947', description='Severe acute respiratory syndrome coronavirus 2 isolate Wuhan-Hu-1, complete genome', dbxrefs=[])"
      ]
     },
     "execution_count": 21,
     "metadata": {},
     "output_type": "execute_result"
    }
   ],
   "source": [
    "gb_dna_record"
   ]
  }
 ],
 "metadata": {
  "kernelspec": {
   "display_name": "Python 3 (ipykernel)",
   "language": "python",
   "name": "python3"
  },
  "language_info": {
   "codemirror_mode": {
    "name": "ipython",
    "version": 3
   },
   "file_extension": ".py",
   "mimetype": "text/x-python",
   "name": "python",
   "nbconvert_exporter": "python",
   "pygments_lexer": "ipython3",
   "version": "3.9.12"
  }
 },
 "nbformat": 4,
 "nbformat_minor": 5
}
