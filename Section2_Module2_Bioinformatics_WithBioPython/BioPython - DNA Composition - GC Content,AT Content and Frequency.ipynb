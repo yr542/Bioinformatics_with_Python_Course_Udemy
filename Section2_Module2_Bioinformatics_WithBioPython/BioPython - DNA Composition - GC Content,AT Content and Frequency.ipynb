{
 "cells": [
  {
   "cell_type": "markdown",
   "id": "f06ae81d-7e7f-4ad9-ad1e-6d0521e937a0",
   "metadata": {},
   "source": [
    "# DNA Composition: GC and AT Content\n",
    "\n",
    "\n",
    "## GC Content Of DNA\n",
    "\n",
    "+ Percentage of nitrogeneous bases in DNA or RNA is either Guanine or Cystosine\n",
    "\n",
    "A T = 2 bonds\n",
    "\n",
    "\n",
    "G C = 3 bonds\n",
    "\n",
    "## Usefulness\n",
    "+ In polymerase chain reaction(PCR) experiments, help us predict the anneling temperature\n",
    "+ A higher GC content indicates a relatively higher melting temperatore\n",
    "+ DNA with a low GC content is less stable than DNA with a high GC content\n",
    "+ High GC Content can make it difficult to perform PCR amplification due to difficulty in designing a primer long enough to provide greater specificity\n",
    "\n",
    "## AT Contents In DNA\n",
    "\n",
    "+ AT content is the percentage of nitrogeneous bases in a DNA or RNA molecule that containe either Adenine (A) or Thymine (T)\n",
    "+ AT base pairing yields only 2 hydrogen bonds"
   ]
  },
  {
   "cell_type": "code",
   "execution_count": 4,
   "id": "115bc4c4-1e9a-48cc-ac8b-6eb1b6bad7ef",
   "metadata": {},
   "outputs": [],
   "source": [
    "     \n",
    "\n",
    "from Bio.Seq import Seq\n",
    "\n"
   ]
  },
  {
   "cell_type": "code",
   "execution_count": 5,
   "id": "c066b288-5eed-4954-a107-d28e9f7f13ce",
   "metadata": {},
   "outputs": [],
   "source": [
    "from Bio.SeqUtils import GC"
   ]
  },
  {
   "cell_type": "code",
   "execution_count": 7,
   "id": "edf2e295-f895-4a15-96bf-cc7284b6acb4",
   "metadata": {},
   "outputs": [],
   "source": [
    "dna_seq = Seq('ATGATCTCGTAA')\n"
   ]
  },
  {
   "cell_type": "code",
   "execution_count": 9,
   "id": "766a96ff-d783-4a4d-96ac-e0b3a2b07697",
   "metadata": {},
   "outputs": [
    {
     "data": {
      "text/plain": [
       "33.333333333333336"
      ]
     },
     "execution_count": 9,
     "metadata": {},
     "output_type": "execute_result"
    }
   ],
   "source": [
    "# Lets find the GC content percentage\n",
    "GC(dna_seq)"
   ]
  },
  {
   "cell_type": "code",
   "execution_count": 11,
   "id": "fa283ba0-6f2a-412c-bade-78c85e04f99f",
   "metadata": {},
   "outputs": [
    {
     "data": {
      "text/plain": [
       "4"
      ]
     },
     "execution_count": 11,
     "metadata": {},
     "output_type": "execute_result"
    }
   ],
   "source": [
    "# Method 2\n",
    "# Custom Function to get GC count\n",
    "\n",
    "dna_seq.count('A')"
   ]
  },
  {
   "cell_type": "code",
   "execution_count": 15,
   "id": "754e87c9-73c9-4055-8f15-2ea98012600a",
   "metadata": {},
   "outputs": [],
   "source": [
    "# lets make our own function\n",
    "\n",
    "\n",
    "def gc_content(seq):\n",
    "    result =  float(seq.count('G')+ seq.count ('C'))/len(seq) * 100\n",
    "    return result\n",
    "\n"
   ]
  },
  {
   "cell_type": "code",
   "execution_count": 16,
   "id": "776bd138-6e82-4e93-86ee-2b7209c64bf4",
   "metadata": {},
   "outputs": [
    {
     "data": {
      "text/plain": [
       "33.33333333333333"
      ]
     },
     "execution_count": 16,
     "metadata": {},
     "output_type": "execute_result"
    }
   ],
   "source": [
    "gc_content (dna_seq)"
   ]
  },
  {
   "cell_type": "code",
   "execution_count": 22,
   "id": "2ce9af05-e34c-4a3a-8a7c-fee2e35de0ce",
   "metadata": {},
   "outputs": [],
   "source": [
    "# Method 3\n",
    "def gc_content2(seq):\n",
    "    gc = [ B for B in seq if B in 'GC']\n",
    "    result = float (len(gc)) /len(seq) * 100\n",
    "    return(result)"
   ]
  },
  {
   "cell_type": "code",
   "execution_count": 23,
   "id": "f9153d18-f3dd-402f-be80-04d59bf93cb4",
   "metadata": {},
   "outputs": [
    {
     "data": {
      "text/plain": [
       "33.33333333333333"
      ]
     },
     "execution_count": 23,
     "metadata": {},
     "output_type": "execute_result"
    }
   ],
   "source": [
    "gc_content2(dna_seq)"
   ]
  },
  {
   "cell_type": "code",
   "execution_count": 24,
   "id": "b108e53b-f4ef-46f4-a804-908f5d009cae",
   "metadata": {},
   "outputs": [
    {
     "data": {
      "text/plain": [
       "Seq('atgatctcgtaa')"
      ]
     },
     "execution_count": 24,
     "metadata": {},
     "output_type": "execute_result"
    }
   ],
   "source": [
    "dna_seq.lower()"
   ]
  },
  {
   "cell_type": "code",
   "execution_count": 25,
   "id": "bc2ffea4-5b59-4a57-8e31-31e08e053608",
   "metadata": {},
   "outputs": [
    {
     "data": {
      "text/plain": [
       "0.0"
      ]
     },
     "execution_count": 25,
     "metadata": {},
     "output_type": "execute_result"
    }
   ],
   "source": [
    "gc_content2('atgatctcgtaa')\n",
    "#Our function doesn't work with lower case"
   ]
  },
  {
   "cell_type": "code",
   "execution_count": 27,
   "id": "01bc8084-e623-4db5-9aa3-4090807cb4e7",
   "metadata": {},
   "outputs": [
    {
     "data": {
      "text/plain": [
       "33.333333333333336"
      ]
     },
     "execution_count": 27,
     "metadata": {},
     "output_type": "execute_result"
    }
   ],
   "source": [
    "GC('atgatctcgtaa')\n",
    "# Biopython's does"
   ]
  },
  {
   "cell_type": "code",
   "execution_count": 31,
   "id": "873501e2-5488-4c31-a655-7a06ed6a458a",
   "metadata": {},
   "outputs": [],
   "source": [
    "# We can conver anything to upper case to force it into a function we made\n",
    "def gc_content3(seq):\n",
    "    gc = [ B for B in seq.upper() if B in 'GC']\n",
    "    result = float (len(gc)) /len(seq) * 100\n",
    "    return(result)"
   ]
  },
  {
   "cell_type": "code",
   "execution_count": 33,
   "id": "bd11d0f4-5157-4594-8314-72109ea4f43d",
   "metadata": {},
   "outputs": [
    {
     "data": {
      "text/plain": [
       "33.33333333333333"
      ]
     },
     "execution_count": 33,
     "metadata": {},
     "output_type": "execute_result"
    }
   ],
   "source": [
    "gc_content3('atgatctcgtaa')\n",
    "#Our function now works with upper and lower case as it is all forced to be upper case"
   ]
  },
  {
   "cell_type": "code",
   "execution_count": 34,
   "id": "e1e9b008-dde5-4d2e-a305-f4266d280cdc",
   "metadata": {},
   "outputs": [],
   "source": [
    "# AT Content\n",
    "\n",
    "#Making our own function\n",
    "\n",
    "def at_content(seq):\n",
    "    result = float(seq.count('A') + seq.count('T') ) /len(seq) * 100\n",
    "    return result\n"
   ]
  },
  {
   "cell_type": "code",
   "execution_count": 35,
   "id": "80b12602-dce8-41d4-ad3b-c0b75edcb6df",
   "metadata": {},
   "outputs": [
    {
     "data": {
      "text/plain": [
       "66.66666666666666"
      ]
     },
     "execution_count": 35,
     "metadata": {},
     "output_type": "execute_result"
    }
   ],
   "source": [
    "at_content(dna_seq)"
   ]
  },
  {
   "cell_type": "markdown",
   "id": "736df888-9931-4577-9d43-ba277b2b25e3",
   "metadata": {},
   "source": [
    "## Melting Point Of DNA\n",
    "\n",
    "+ Higher GC means higher melting point\n",
    "+ Tm_Wallace: 'Rule of thumb'\n",
    "+ Tm_GC: Empirical formulas based on GC content. Salt and mismath corrections can be included.\n",
    "+ Tm_NN: Calculations based on nearest neighbor thermodynamics. Several tables for DNA/DNA, DNA/RNA and RNA/RNA hybridizations are included. Correction for mismatches, dangling ends, salt concentration and other additives are available.\n"
   ]
  },
  {
   "cell_type": "code",
   "execution_count": 37,
   "id": "e1c2bef3-a7d7-4b90-a685-783c787362f1",
   "metadata": {},
   "outputs": [],
   "source": [
    "import Bio.SeqUtils"
   ]
  },
  {
   "cell_type": "code",
   "execution_count": 38,
   "id": "4643727a-679f-4e0e-834f-62248fbfbbf9",
   "metadata": {},
   "outputs": [
    {
     "data": {
      "text/plain": [
       "['GC',\n",
       " 'GC123',\n",
       " 'GC_skew',\n",
       " 'IUPACData',\n",
       " 'Seq',\n",
       " '__builtins__',\n",
       " '__cached__',\n",
       " '__doc__',\n",
       " '__file__',\n",
       " '__loader__',\n",
       " '__name__',\n",
       " '__package__',\n",
       " '__path__',\n",
       " '__spec__',\n",
       " 'cos',\n",
       " 'molecular_weight',\n",
       " 'nt_search',\n",
       " 'pi',\n",
       " 're',\n",
       " 'seq1',\n",
       " 'seq3',\n",
       " 'sin',\n",
       " 'six_frame_translations',\n",
       " 'xGC_skew']"
      ]
     },
     "execution_count": 38,
     "metadata": {},
     "output_type": "execute_result"
    }
   ],
   "source": [
    "dir(Bio.SeqUtils)"
   ]
  },
  {
   "cell_type": "code",
   "execution_count": 39,
   "id": "3f168c7e-4d79-4ba4-9d16-59f42ef4e7de",
   "metadata": {},
   "outputs": [],
   "source": [
    " from Bio.SeqUtils import MeltingTemp as mt"
   ]
  },
  {
   "cell_type": "code",
   "execution_count": 40,
   "id": "7c69e87b-d3e4-459f-a6da-f6c41dde6c4c",
   "metadata": {},
   "outputs": [
    {
     "data": {
      "text/plain": [
       "Seq('ATGATCTCGTAA')"
      ]
     },
     "execution_count": 40,
     "metadata": {},
     "output_type": "execute_result"
    }
   ],
   "source": [
    "dna_seq\n"
   ]
  },
  {
   "cell_type": "code",
   "execution_count": 41,
   "id": "13d39210-7926-4b40-b138-8e6cb43ff87a",
   "metadata": {},
   "outputs": [
    {
     "data": {
      "text/plain": [
       "33.333333333333336"
      ]
     },
     "execution_count": 41,
     "metadata": {},
     "output_type": "execute_result"
    }
   ],
   "source": [
    "GC(dna_seq)"
   ]
  },
  {
   "cell_type": "code",
   "execution_count": 42,
   "id": "d2db5ad2-51e5-4d7e-bc53-57ce27a8857b",
   "metadata": {},
   "outputs": [
    {
     "data": {
      "text/plain": [
       "32.0"
      ]
     },
     "execution_count": 42,
     "metadata": {},
     "output_type": "execute_result"
    }
   ],
   "source": [
    "# Check for the melting point using wallace\n",
    "\n",
    "mt.Tm_Wallace(dna_seq)"
   ]
  },
  {
   "cell_type": "code",
   "execution_count": 43,
   "id": "93832c41-6953-4fc3-b706-c0a2daa6f186",
   "metadata": {},
   "outputs": [
    {
     "data": {
      "text/plain": [
       "23.32155893208184"
      ]
     },
     "execution_count": 43,
     "metadata": {},
     "output_type": "execute_result"
    }
   ],
   "source": [
    "# Checking for the melting point using GC content\n",
    "\n",
    "mt.Tm_GC(dna_seq)"
   ]
  },
  {
   "cell_type": "markdown",
   "id": "112ff2ff-7fae-4705-a352-e8fd56bb3d57",
   "metadata": {},
   "source": [
    "## Excercise \n",
    "\n",
    "+ Which of the following will have the highest GC?\n",
    "+ ex1 = 'ATGCATGGTGCGCGA'\n",
    "+ ex2 = 'ATTTGTGCTCCTGGA'"
   ]
  },
  {
   "cell_type": "code",
   "execution_count": 44,
   "id": "4619f5e8-3034-4f7e-9f7f-7c22eb6fab2e",
   "metadata": {},
   "outputs": [],
   "source": [
    "ex1 = 'ATGCATGGTGCGCGA'\n",
    "ex2 = 'ATTTGTGCTCCTGGA'"
   ]
  },
  {
   "cell_type": "code",
   "execution_count": 45,
   "id": "00f935b3-4610-4216-be5a-ac9cef160449",
   "metadata": {},
   "outputs": [
    {
     "data": {
      "text/plain": [
       "60.0"
      ]
     },
     "execution_count": 45,
     "metadata": {},
     "output_type": "execute_result"
    }
   ],
   "source": [
    "GC(ex1)"
   ]
  },
  {
   "cell_type": "code",
   "execution_count": 46,
   "id": "eddc1387-73e9-4687-836c-33ef8f8ebd13",
   "metadata": {},
   "outputs": [
    {
     "data": {
      "text/plain": [
       "46.666666666666664"
      ]
     },
     "execution_count": 46,
     "metadata": {},
     "output_type": "execute_result"
    }
   ],
   "source": [
    "GC(ex2)"
   ]
  },
  {
   "cell_type": "code",
   "execution_count": null,
   "id": "b3669426-d285-4e68-b74c-fb14172b1ee4",
   "metadata": {},
   "outputs": [],
   "source": [
    "# ex1 has the higest GC content"
   ]
  },
  {
   "cell_type": "code",
   "execution_count": 47,
   "id": "a91c90db-d6b6-4f9b-a2cf-b96b69485bcd",
   "metadata": {},
   "outputs": [],
   "source": [
    "# One way to  get GC content\n",
    "\n",
    "def get_metrics(seq):\n",
    "    gc = GC(seq)\n",
    "    at = at_content(seq)\n",
    "    melting = mt.Tm_GC(seq)\n",
    "    result =  \"GC:{} , AT:{}, Temp{}\".format(gc,at, melting)\n",
    "    return(result)"
   ]
  },
  {
   "cell_type": "code",
   "execution_count": 48,
   "id": "1c0a4408-a841-496e-9bfb-0e2afcd7d8e8",
   "metadata": {},
   "outputs": [
    {
     "data": {
      "text/plain": [
       "'GC:60.0 , AT:40.0, Temp44.254892265415165'"
      ]
     },
     "execution_count": 48,
     "metadata": {},
     "output_type": "execute_result"
    }
   ],
   "source": [
    "get_metrics(ex1)"
   ]
  },
  {
   "cell_type": "code",
   "execution_count": 49,
   "id": "eb660428-cacf-46e7-b61d-52ebab1ee1b3",
   "metadata": {},
   "outputs": [
    {
     "data": {
      "text/plain": [
       "'GC:46.666666666666664 , AT:53.333333333333336, Temp38.7882255987485'"
      ]
     },
     "execution_count": 49,
     "metadata": {},
     "output_type": "execute_result"
    }
   ],
   "source": [
    "get_metrics(ex2)"
   ]
  },
  {
   "cell_type": "markdown",
   "id": "ae42de1b-855d-4a19-b39e-d6a96b02865d",
   "metadata": {},
   "source": [
    "# GC Skew\n",
    "\n",
    "+ check when the nucletide (G,C) are over or under abundant in a particular region of a DNA or RNA\n",
    "+ Helps to indicate DNA lagging strand or leading strand\n",
    "+ GC skew positive = leading\n",
    "+ GC skew negative = lagging\n",
    "\n"
   ]
  },
  {
   "cell_type": "code",
   "execution_count": 51,
   "id": "0415f938-963e-4282-9abd-16af4767e252",
   "metadata": {},
   "outputs": [],
   "source": [
    "from Bio.SeqUtils import GC123, GC_skew, xGC_skew"
   ]
  },
  {
   "cell_type": "code",
   "execution_count": 53,
   "id": "c58ca2f0-03b9-4f5a-8817-61fc2882b379",
   "metadata": {},
   "outputs": [
    {
     "data": {
      "text/plain": [
       "Seq('ATGATCTCGTAA')"
      ]
     },
     "execution_count": 53,
     "metadata": {},
     "output_type": "execute_result"
    }
   ],
   "source": [
    "# GC content first, second, third position\n",
    "\n",
    "\n",
    "dna_seq\n"
   ]
  },
  {
   "cell_type": "code",
   "execution_count": 55,
   "id": "58a3f5d3-2e0e-487b-bb98-9fecfafc57d4",
   "metadata": {},
   "outputs": [
    {
     "data": {
      "text/plain": [
       "33.333333333333336"
      ]
     },
     "execution_count": 55,
     "metadata": {},
     "output_type": "execute_result"
    }
   ],
   "source": [
    "GC(dna_seq)"
   ]
  },
  {
   "cell_type": "code",
   "execution_count": 54,
   "id": "296dab7c-93e4-4f5f-8578-5921babc19bd",
   "metadata": {},
   "outputs": [
    {
     "data": {
      "text/plain": [
       "(33.333333333333336, 0.0, 25.0, 75.0)"
      ]
     },
     "execution_count": 54,
     "metadata": {},
     "output_type": "execute_result"
    }
   ],
   "source": [
    "GC123(dna_seq)"
   ]
  },
  {
   "cell_type": "code",
   "execution_count": 56,
   "id": "944dcf35-3a6b-4fb5-8427-5c0a5d6b620a",
   "metadata": {},
   "outputs": [
    {
     "data": {
      "text/plain": [
       "[0.0]"
      ]
     },
     "execution_count": 56,
     "metadata": {},
     "output_type": "execute_result"
    }
   ],
   "source": [
    "# GC skew\n",
    "#By default the window is 100\n",
    "# GC_skew (sequence, window)\n",
    "GC_skew(dna_seq)"
   ]
  },
  {
   "cell_type": "code",
   "execution_count": 57,
   "id": "e19018a7-c844-4bff-abb5-d93368145ce3",
   "metadata": {},
   "outputs": [
    {
     "data": {
      "text/plain": [
       "[0.0, 0.0]"
      ]
     },
     "execution_count": 57,
     "metadata": {},
     "output_type": "execute_result"
    }
   ],
   "source": [
    "#Lets make the window 10\n",
    "\n",
    "GC_skew(dna_seq,10)"
   ]
  },
  {
   "cell_type": "code",
   "execution_count": 58,
   "id": "7eb00912-7a85-4ea8-a508-d2f9821e6316",
   "metadata": {},
   "outputs": [
    {
     "data": {
      "text/plain": [
       "[0.0]"
      ]
     },
     "execution_count": 58,
     "metadata": {},
     "output_type": "execute_result"
    }
   ],
   "source": [
    "GC_skew('ATGGGGTCCCGCTC')"
   ]
  },
  {
   "cell_type": "code",
   "execution_count": 59,
   "id": "aeb9249b-f838-4ef2-afa9-bcd1a83a606e",
   "metadata": {},
   "outputs": [],
   "source": [
    "xGC_skew(dna_seq)"
   ]
  },
  {
   "cell_type": "markdown",
   "id": "78bf6e79-e795-4a49-8bf1-6212fd145bff",
   "metadata": {},
   "source": [
    "# Subsequences\n",
    "+ Search for a DNA subsequence in a sequence, return a list of [subseq, positions]"
   ]
  },
  {
   "cell_type": "code",
   "execution_count": 64,
   "id": "dd11e371-6997-4f9a-b833-dad78cfa856f",
   "metadata": {},
   "outputs": [],
   "source": [
    "from Bio.SeqUtils import nt_search"
   ]
  },
  {
   "cell_type": "code",
   "execution_count": 65,
   "id": "97d25938-03b0-45f7-a8c0-53eab1decaf3",
   "metadata": {},
   "outputs": [],
   "source": [
    "main_s1 = Seq('ACTATT')"
   ]
  },
  {
   "cell_type": "code",
   "execution_count": 66,
   "id": "22986ee5-c350-4c32-968f-2db4f91fb5bb",
   "metadata": {},
   "outputs": [],
   "source": [
    "subseq = Seq('ACT')"
   ]
  },
  {
   "cell_type": "code",
   "execution_count": 69,
   "id": "339289de-d464-4c10-bb17-9d81dc3620db",
   "metadata": {},
   "outputs": [
    {
     "data": {
      "text/plain": [
       "['ATT', 3]"
      ]
     },
     "execution_count": 69,
     "metadata": {},
     "output_type": "execute_result"
    }
   ],
   "source": [
    "nt_search(str(main_s1),  str(subseq) )\n",
    "# It is found in position 0"
   ]
  },
  {
   "cell_type": "code",
   "execution_count": 70,
   "id": "1555b6b8-578c-4fa7-bd1b-501e75d2b53c",
   "metadata": {},
   "outputs": [
    {
     "data": {
      "text/plain": [
       "['ATT', 3]"
      ]
     },
     "execution_count": 70,
     "metadata": {},
     "output_type": "execute_result"
    }
   ],
   "source": [
    "subseq = Seq('ATT')\n",
    "nt_search(str(main_s1),  str(subseq) )\n",
    "# It is found in position 3"
   ]
  },
  {
   "cell_type": "code",
   "execution_count": null,
   "id": "efa1c1d0-27ff-4c4d-8bc9-54fa774a62f0",
   "metadata": {},
   "outputs": [],
   "source": [
    "# This is how to find subsequences"
   ]
  },
  {
   "cell_type": "code",
   "execution_count": null,
   "id": "7a543309-df48-48bd-a37c-b2082f2f8049",
   "metadata": {},
   "outputs": [],
   "source": [
    "# This is all Section 2 Module 2  - Bioinformatics With Biopython - Part 8. BioPython - DNA Composition - GC Content,AT Content and Frequency"
   ]
  }
 ],
 "metadata": {
  "kernelspec": {
   "display_name": "Python 3 (ipykernel)",
   "language": "python",
   "name": "python3"
  },
  "language_info": {
   "codemirror_mode": {
    "name": "ipython",
    "version": 3
   },
   "file_extension": ".py",
   "mimetype": "text/x-python",
   "name": "python",
   "nbconvert_exporter": "python",
   "pygments_lexer": "ipython3",
   "version": "3.9.12"
  }
 },
 "nbformat": 4,
 "nbformat_minor": 5
}
