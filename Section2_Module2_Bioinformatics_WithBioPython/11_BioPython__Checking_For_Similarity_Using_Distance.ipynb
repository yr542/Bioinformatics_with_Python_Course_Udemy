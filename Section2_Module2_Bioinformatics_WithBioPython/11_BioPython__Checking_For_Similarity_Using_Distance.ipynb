{
 "cells": [
  {
   "cell_type": "markdown",
   "id": "0422f794-39f1-44df-987e-5502bd439007",
   "metadata": {},
   "source": [
    "# 11. BioPython- Checking For Similarity Using Distance\n",
    "\n",
    "# Review\n",
    "\n",
    "## Checking for Similarity Between Sequences\n",
    "\n",
    "+ Sequence alignment\n",
    "    + Dynamic Programming (Global/Local ( needle/water ) )\n",
    "    + Dotplot\n",
    "+ Similarity: resemblance between 2 sequences in comparison\n",
    "    + the minimal number of edit operations (insert, deletes, and substitutions) in order to transform the one sequence into an exact copy of the other sequence being aligned\n",
    "    + distance\n",
    "+ Identity: the number of characters that match EXACTLY between 2 different sequences\n",
    "     + Gaps are mot counted\n",
    "     + The measurement is relational to the shorter of the 2 sequences\n",
    "     + This has the effect that sequene identity is not transitive, i.e.\n",
    "         + if sequence A = B and B = C then A is not necessarily equal to C (in terms of the identity distance measure):\n",
    "     + Sequences used in the previous subsection:\n",
    "         + A : AAGGCTT\n",
    "         + B : AAGGC\n",
    "         + C : AAGGCAT\n",
    "\n",
    "\n",
    "# In this section we will focus on:\n",
    "\n",
    "\n",
    "## Hamming distance: shows how many places 2 strings differ\n",
    "\n",
    "+ Hamming distance between 2 string of equal length in the number of positions at which the corresponding symbols are different.\n",
    "+ In other words, it measures the minimum number of substitutions required to change 1 string into the other, or the minimum number of errors that could have transformed one string into the other\n",
    "+ It is used for error detection or error correction\n",
    "+ It is used to quantify the similarity of DNA sequences,\n",
    "+ For checking the edit distance\n",
    "    + edit distance is a way of quantifying how dissimilar 2 strings (e.g. words) are to 1 and other by counting the minimum number of operations required to transform 1 string into the other\n",
    "    + E.g. Levenshtein distance\n",
    "    \n",
    "## Levenshtein distance\n",
    "\n",
    "+ This method was invented in 1965 by the Russian mathematician Vladimir Levenshtein (1935 - 2017).\n",
    "+ The distance value describes the minimal number of deletions, insertions, or substitutions that are required to transform 1 string (the source) into another (the target).\n",
    "+ Unlike the Hamming distance, the Levenshtein distance works on string with unequal length\n",
    "+ pip install python-Levenshtein"
   ]
  },
  {
   "cell_type": "code",
   "execution_count": 4,
   "id": "d8bad92e-ade2-4839-b7e2-750ea6f10470",
   "metadata": {},
   "outputs": [],
   "source": [
    "# Import Statements\n",
    "\n",
    "from Bio.Seq import Seq\n",
    "from Bio import pairwise2"
   ]
  },
  {
   "cell_type": "code",
   "execution_count": 13,
   "id": "2b488556-fdf6-4168-83be-b4bbfce2cbd5",
   "metadata": {},
   "outputs": [],
   "source": [
    "# Lets use these sequences\n",
    "seq1 = Seq('ACTAT')\n",
    "seq2 = Seq('ACTTA')\n",
    "seq3 = Seq('ACTT')"
   ]
  },
  {
   "cell_type": "code",
   "execution_count": 6,
   "id": "a47cc08c-442d-47fd-9447-bfeaf7c67d5a",
   "metadata": {},
   "outputs": [],
   "source": [
    "# Hamming distance fcxn\n",
    "def hamming_distance(lhs,rhs):\n",
    "    return len([ (x,y) for x,y in zip(lhs,rhs) if x != y])"
   ]
  },
  {
   "cell_type": "code",
   "execution_count": 7,
   "id": "6d48a214-198d-49a2-8300-4427e40f6f64",
   "metadata": {},
   "outputs": [
    {
     "data": {
      "text/plain": [
       "2"
      ]
     },
     "execution_count": 7,
     "metadata": {},
     "output_type": "execute_result"
    }
   ],
   "source": [
    "hamming_distance(seq1,seq2)"
   ]
  },
  {
   "cell_type": "code",
   "execution_count": 8,
   "id": "d0f17b5e-9283-4551-ba72-ef991e9c7214",
   "metadata": {},
   "outputs": [
    {
     "data": {
      "text/plain": [
       "0"
      ]
     },
     "execution_count": 8,
     "metadata": {},
     "output_type": "execute_result"
    }
   ],
   "source": [
    "# if I compare the same sequence to istelf you will get 0 (because it will be 0 if they are the same)\n",
    "hamming_distance(seq1,seq1)"
   ]
  },
  {
   "cell_type": "code",
   "execution_count": 11,
   "id": "51dd601d-ca9c-4898-9a13-f70ad23841b2",
   "metadata": {},
   "outputs": [
    {
     "name": "stdout",
     "output_type": "stream",
     "text": [
      "ACTAT\n",
      "TATCA\n"
     ]
    }
   ],
   "source": [
    "print(seq1)\n",
    "print(seq1[::-1])"
   ]
  },
  {
   "cell_type": "code",
   "execution_count": 10,
   "id": "c95d0c05-5ce0-40cd-aa36-1b5a8a11d462",
   "metadata": {},
   "outputs": [
    {
     "data": {
      "text/plain": [
       "4"
      ]
     },
     "execution_count": 10,
     "metadata": {},
     "output_type": "execute_result"
    }
   ],
   "source": [
    "hamming_distance(seq1, seq1[:: -1])"
   ]
  },
  {
   "cell_type": "code",
   "execution_count": 14,
   "id": "c1724051-92ee-4d77-b936-3c24ec1f1e1b",
   "metadata": {},
   "outputs": [
    {
     "data": {
      "text/plain": [
       "1"
      ]
     },
     "execution_count": 14,
     "metadata": {},
     "output_type": "execute_result"
    }
   ],
   "source": [
    "hamming_distance(seq1,seq3)"
   ]
  },
  {
   "cell_type": "markdown",
   "id": "5253dd5b-1ce5-42da-9a8a-b43e96a7eab4",
   "metadata": {},
   "source": [
    "### Levenshtein Distance"
   ]
  },
  {
   "cell_type": "code",
   "execution_count": 15,
   "id": "c5899901-ee56-4f5e-9dc4-8694910dbfa2",
   "metadata": {},
   "outputs": [],
   "source": [
    "# Import Statements\n",
    "from Levenshtein import distance"
   ]
  },
  {
   "cell_type": "code",
   "execution_count": 16,
   "id": "62007999-2d6e-499d-9e2c-31ea72f2ffe7",
   "metadata": {},
   "outputs": [
    {
     "data": {
      "text/plain": [
       "2"
      ]
     },
     "execution_count": 16,
     "metadata": {},
     "output_type": "execute_result"
    }
   ],
   "source": [
    "distance( str(seq1), str(seq2) )"
   ]
  },
  {
   "cell_type": "code",
   "execution_count": 19,
   "id": "154dd9a9-bfcd-4b95-b81a-4ba1299a0bbc",
   "metadata": {},
   "outputs": [
    {
     "name": "stdout",
     "output_type": "stream",
     "text": [
      "Hamming distance 2\n",
      "Levenshtein distance 2\n"
     ]
    }
   ],
   "source": [
    "# Here they are the same\n",
    "print(\"Hamming distance\", hamming_distance(seq1, seq2) )\n",
    "print(\"Levenshtein distance\", distance( str(seq1), str(seq2) ))"
   ]
  },
  {
   "cell_type": "code",
   "execution_count": 20,
   "id": "f21d05aa-00f4-446e-a58d-2860ec9cccf8",
   "metadata": {},
   "outputs": [
    {
     "name": "stdout",
     "output_type": "stream",
     "text": [
      "Hamming distance 1\n",
      "Levenshtein distance 1\n"
     ]
    }
   ],
   "source": [
    "# Here they are different\n",
    "print(\"Hamming distance\", hamming_distance(seq1, seq3) )\n",
    "print(\"Levenshtein distance\", distance( str(seq1), str(seq3) ))"
   ]
  },
  {
   "cell_type": "code",
   "execution_count": null,
   "id": "78adc53e-7899-444e-a9b5-f5424311d542",
   "metadata": {},
   "outputs": [],
   "source": [
    "# This is the end of subsection 11 of Section 2"
   ]
  }
 ],
 "metadata": {
  "kernelspec": {
   "display_name": "Python 3 (ipykernel)",
   "language": "python",
   "name": "python3"
  },
  "language_info": {
   "codemirror_mode": {
    "name": "ipython",
    "version": 3
   },
   "file_extension": ".py",
   "mimetype": "text/x-python",
   "name": "python",
   "nbconvert_exporter": "python",
   "pygments_lexer": "ipython3",
   "version": "3.9.12"
  }
 },
 "nbformat": 4,
 "nbformat_minor": 5
}
