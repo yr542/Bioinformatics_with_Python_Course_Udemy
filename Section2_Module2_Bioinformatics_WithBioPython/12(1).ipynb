{
 "cells": [
  {
   "cell_type": "markdown",
   "id": "678bcf1f-f96a-4b91-855a-509cbe64dce0",
   "metadata": {},
   "source": [
    "# 12. BioPython- Checking For Similarity Using DotPlot\n",
    "### This only includes the preface to the subsection (not the code)\n",
    "\n",
    "\n",
    "## Sequence alignment using DotPlot\n",
    "\n",
    "### Dot Plot\n",
    "\n",
    "+ A dot plot is a graphical methods that allows the comparison of 2 biological seqences and identify regions of close similarity between them\n",
    "+ Simplest method - put a dot wherever sequences are identical\n",
    "+ Dot plots compare 2 sequences by organizing 1 sequence on the x axis and another on the y axis\n",
    "+ When the residues of both sequences match at the same location on the plot, a dot is drawn at the corresponding position\n",
    "\n",
    "#### Usefulness\n",
    "\n",
    "+ Dot plots can also be used to visually inspect sequences for\n",
    "    + direct or inverted repeats\n",
    "    + regions with low sequence complexity\n",
    "    + similar regions\n",
    "    + Repeated sequences\n",
    "    + Sequence rearrangements\n",
    "    + RNA structures\n",
    "    + Gene order\n",
    "    \n",
    "+ Link he used code from: https://stackoverflow.com/questions/40822400/how-to-create-a-dotplot-of-two-dna-sequence-in-python"
   ]
  },
  {
   "cell_type": "code",
   "execution_count": null,
   "id": "d973fd29-dcb8-4884-b56c-13d1f72fd06e",
   "metadata": {},
   "outputs": [],
   "source": []
  }
 ],
 "metadata": {
  "kernelspec": {
   "display_name": "Python 3 (ipykernel)",
   "language": "python",
   "name": "python3"
  },
  "language_info": {
   "codemirror_mode": {
    "name": "ipython",
    "version": 3
   },
   "file_extension": ".py",
   "mimetype": "text/x-python",
   "name": "python",
   "nbconvert_exporter": "python",
   "pygments_lexer": "ipython3",
   "version": "3.9.12"
  }
 },
 "nbformat": 4,
 "nbformat_minor": 5
}
