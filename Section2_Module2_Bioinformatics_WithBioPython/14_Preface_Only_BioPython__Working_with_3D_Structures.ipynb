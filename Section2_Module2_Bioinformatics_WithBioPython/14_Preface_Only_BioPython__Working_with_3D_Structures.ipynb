{
 "cells": [
  {
   "cell_type": "markdown",
   "id": "692c0690-0b5f-44a6-ad2d-ce5509483200",
   "metadata": {},
   "source": [
    "# 14. BioPython - Working with 3D Structures\n",
    "\n",
    "## 3D Structure Of Protein\n",
    "\n",
    "+ File Format\n",
    "\n",
    "    + pdb : PDBParser() legacy\n",
    "    + cif : MMCIFParser() recent\n",
    "\n",
    "\n",
    "+ Links:\n",
    "    + https://www.ncbi.nlm.nih.gov/Structure/pdb/6L7\n",
    "    \n",
    "    + http://www.rcsb.org/search\n",
    "    \n",
    "    + Protein Data Bank\n",
    "\n",
    "+ Packages\n",
    "\n",
    "    + pip install nglview\n",
    "    + pip install py3Dmol\n",
    "    + pip install pytraj\n",
    "    + jupyter-nb extension enable nglview --py --sys-prefix\n",
    "    + nglview enable\n",
    "    + jupyter-labextension install @jupyter-widget/jupyterlab-manager\n",
    "    + jupyter-labextension install nglview-js-widgets"
   ]
  },
  {
   "cell_type": "code",
   "execution_count": null,
   "id": "5ae69c3a-64ce-4470-ab47-0144b50755fd",
   "metadata": {},
   "outputs": [],
   "source": []
  }
 ],
 "metadata": {
  "kernelspec": {
   "display_name": "Python 3 (ipykernel)",
   "language": "python",
   "name": "python3"
  },
  "language_info": {
   "codemirror_mode": {
    "name": "ipython",
    "version": 3
   },
   "file_extension": ".py",
   "mimetype": "text/x-python",
   "name": "python",
   "nbconvert_exporter": "python",
   "pygments_lexer": "ipython3",
   "version": "3.9.12"
  }
 },
 "nbformat": 4,
 "nbformat_minor": 5
}
