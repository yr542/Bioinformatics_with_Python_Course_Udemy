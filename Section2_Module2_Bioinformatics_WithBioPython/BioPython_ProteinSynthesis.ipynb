{
  "metadata": {
    "kernelspec": {
      "name": "python",
      "display_name": "Python (Pyodide)",
      "language": "python"
    },
    "language_info": {
      "codemirror_mode": {
        "name": "python",
        "version": 3
      },
      "file_extension": ".py",
      "mimetype": "text/x-python",
      "name": "python",
      "nbconvert_exporter": "python",
      "pygments_lexer": "ipython3",
      "version": "3.8"
    }
  },
  "nbformat_minor": 5,
  "nbformat": 4,
  "cells": [
    {
      "cell_type": "markdown",
      "source": "# Protein Synthesis\n\n-Protein Synthesis is how cells make proteins using 2 stages\n- Transcription\n- Translation",
      "metadata": {},
      "id": "a35eeb9f-df70-4ab1-a243-2d2025888eb0"
    },
    {
      "cell_type": "code",
      "source": "from Bio.Seq import Seq",
      "metadata": {
        "trusted": true
      },
      "execution_count": 2,
      "outputs": [],
      "id": "fe55883a-6887-43dd-9498-5333a51799e2"
    },
    {
      "cell_type": "code",
      "source": "dna_seq = Seq('ATGATCTCGTAA')",
      "metadata": {
        "trusted": true
      },
      "execution_count": 3,
      "outputs": [],
      "id": "3b1093e9-9a93-4c68-9905-948d886aa631"
    },
    {
      "cell_type": "code",
      "source": "len(dna_seq)",
      "metadata": {
        "trusted": true
      },
      "execution_count": 4,
      "outputs": [
        {
          "execution_count": 4,
          "output_type": "execute_result",
          "data": {
            "text/plain": "12"
          },
          "metadata": {}
        }
      ],
      "id": "673481ce-0dee-4d00-ac5d-b10d62315bf5"
    },
    {
      "cell_type": "code",
      "source": "# A T = 2 hydrogen bonds\n# G C = 3 hydrogen bonds\n# usually more GC content means more heat stable",
      "metadata": {},
      "execution_count": null,
      "outputs": [],
      "id": "9a22b150-1719-4a7a-bc43-e9542a4361b1"
    },
    {
      "cell_type": "code",
      "source": "dna_seq\n",
      "metadata": {
        "trusted": true
      },
      "execution_count": 6,
      "outputs": [
        {
          "execution_count": 6,
          "output_type": "execute_result",
          "data": {
            "text/plain": "Seq('ATGATCTCGTAA')"
          },
          "metadata": {}
        }
      ],
      "id": "28438a57-5a57-4b40-bf0f-d99587a25809"
    },
    {
      "cell_type": "code",
      "source": "# Complement\ndna_seq.complement()",
      "metadata": {
        "trusted": true
      },
      "execution_count": 5,
      "outputs": [
        {
          "execution_count": 5,
          "output_type": "execute_result",
          "data": {
            "text/plain": "Seq('TACTAGAGCATT')"
          },
          "metadata": {}
        }
      ],
      "id": "95ac5b38-52a2-48ae-9e97-bf27af6468c5"
    },
    {
      "cell_type": "code",
      "source": "# Reverse complement\ndna_seq.reverse_complement()",
      "metadata": {
        "trusted": true
      },
      "execution_count": 7,
      "outputs": [
        {
          "execution_count": 7,
          "output_type": "execute_result",
          "data": {
            "text/plain": "Seq('TTACGAGATCAT')"
          },
          "metadata": {}
        }
      ],
      "id": "e716cca5-5287-44c0-a9ba-5e19d8fc791d"
    },
    {
      "cell_type": "code",
      "source": "# Custom \ndna_seq.complement()[::-1]",
      "metadata": {
        "trusted": true
      },
      "execution_count": 9,
      "outputs": [
        {
          "execution_count": 9,
          "output_type": "execute_result",
          "data": {
            "text/plain": "Seq('TTACGAGATCAT')"
          },
          "metadata": {}
        }
      ],
      "id": "44809923-6ced-4b07-821e-04ce954d9cbb"
    },
    {
      "cell_type": "markdown",
      "source": "## Protein Synthesis",
      "metadata": {
        "tags": []
      },
      "id": "b9670d85-ef29-4dfd-b4b5-e76d279c1f1a"
    },
    {
      "cell_type": "code",
      "source": "dna_seq",
      "metadata": {
        "trusted": true
      },
      "execution_count": 11,
      "outputs": [
        {
          "execution_count": 11,
          "output_type": "execute_result",
          "data": {
            "text/plain": "Seq('ATGATCTCGTAA')"
          },
          "metadata": {}
        }
      ],
      "id": "bb6e4dbb-2b5f-4ffe-a20e-76a532cd8c21"
    },
    {
      "cell_type": "code",
      "source": "#Transcription\n# DNA to mRNA\n# Writing a message\n\ndna_seq.transcribe()\n",
      "metadata": {
        "trusted": true
      },
      "execution_count": 10,
      "outputs": [
        {
          "execution_count": 10,
          "output_type": "execute_result",
          "data": {
            "text/plain": "Seq('AUGAUCUCGUAA')"
          },
          "metadata": {}
        }
      ],
      "id": "219c5ec5-ae1d-4a62-8424-3e01aa5bbb00"
    },
    {
      "cell_type": "code",
      "source": "mRNA = dna_seq.transcribe()",
      "metadata": {
        "tags": [],
        "trusted": true
      },
      "execution_count": 13,
      "outputs": [],
      "id": "1a2301f6-4a81-44fa-a452-2fdfea1193cd"
    },
    {
      "cell_type": "code",
      "source": "# Translation\n# mRNA to a protein/amino acid\n#Method 1\nmRNA.translate()\n# an * indicates a stop codon",
      "metadata": {
        "trusted": true
      },
      "execution_count": 14,
      "outputs": [
        {
          "execution_count": 14,
          "output_type": "execute_result",
          "data": {
            "text/plain": "Seq('MIS*')"
          },
          "metadata": {}
        }
      ],
      "id": "29403a7e-bc96-4462-a6b7-4a760c937699"
    },
    {
      "cell_type": "code",
      "source": "#Method 2\n# Direct translation of DNA to an amino acid\ndna_seq.translate()",
      "metadata": {
        "trusted": true
      },
      "execution_count": 15,
      "outputs": [
        {
          "execution_count": 15,
          "output_type": "execute_result",
          "data": {
            "text/plain": "Seq('MIS*')"
          },
          "metadata": {}
        }
      ],
      "id": "3f5f68c4-c34d-4dfd-ba8f-a3fd68b135a4"
    },
    {
      "cell_type": "code",
      "source": "# Create a custom stop codon symbol\nmRNA.translate(stop_symbol= \"@\")\n",
      "metadata": {
        "trusted": true
      },
      "execution_count": 16,
      "outputs": [
        {
          "execution_count": 16,
          "output_type": "execute_result",
          "data": {
            "text/plain": "Seq('MIS@')"
          },
          "metadata": {}
        }
      ],
      "id": "23cb90d6-2dde-4d7b-a005-a57a7a5808a3"
    },
    {
      "cell_type": "code",
      "source": "# Back transcription\n\n# Convert mRNA to DNA\n\nmRNA.back_transcribe()",
      "metadata": {
        "trusted": true
      },
      "execution_count": 17,
      "outputs": [
        {
          "execution_count": 17,
          "output_type": "execute_result",
          "data": {
            "text/plain": "Seq('ATGATCTCGTAA')"
          },
          "metadata": {}
        }
      ],
      "id": "7a86d10a-6500-4f74-88df-0ae8837c906f"
    },
    {
      "cell_type": "code",
      "source": "mRNA.back_transcribe() == dna_seq",
      "metadata": {
        "trusted": true
      },
      "execution_count": 18,
      "outputs": [
        {
          "execution_count": 18,
          "output_type": "execute_result",
          "data": {
            "text/plain": "True"
          },
          "metadata": {}
        }
      ],
      "id": "569eea77-df22-415a-9687-7b5a7b4416d0"
    },
    {
      "cell_type": "code",
      "source": "# Join the steps \ndna_seq.transcribe().translate()",
      "metadata": {
        "trusted": true
      },
      "execution_count": 20,
      "outputs": [
        {
          "execution_count": 20,
          "output_type": "execute_result",
          "data": {
            "text/plain": "Seq('MIS*')"
          },
          "metadata": {}
        }
      ],
      "id": "2b28804a-7a99-4d9d-a117-0031f25f0efa"
    },
    {
      "cell_type": "code",
      "source": "# Convert an amino acid to 3 letters\nfrom Bio.SeqUtils import seq3,seq1\n",
      "metadata": {
        "trusted": true
      },
      "execution_count": 21,
      "outputs": [],
      "id": "707ff0f4-cf71-499f-9f19-d6bf85855f19"
    },
    {
      "cell_type": "code",
      "source": "aa = dna_seq.translate()",
      "metadata": {
        "trusted": true
      },
      "execution_count": 22,
      "outputs": [],
      "id": "c21bd735-17e8-45bd-9649-cc01ac4c4b72"
    },
    {
      "cell_type": "code",
      "source": "aa",
      "metadata": {
        "trusted": true
      },
      "execution_count": 23,
      "outputs": [
        {
          "execution_count": 23,
          "output_type": "execute_result",
          "data": {
            "text/plain": "Seq('MIS*')"
          },
          "metadata": {}
        }
      ],
      "id": "61ee06b5-a70b-4b81-997e-c55cc07e5fe5"
    },
    {
      "cell_type": "code",
      "source": "seq3(aa)",
      "metadata": {
        "trusted": true
      },
      "execution_count": 24,
      "outputs": [
        {
          "execution_count": 24,
          "output_type": "execute_result",
          "data": {
            "text/plain": "'MetIleSerTer'"
          },
          "metadata": {}
        }
      ],
      "id": "913fd138-9535-4965-9431-19057e1eb91f"
    },
    {
      "cell_type": "code",
      "source": "#Convert from 3 letters to 1\n\nseq1('MetIleSerTer')\n",
      "metadata": {
        "trusted": true
      },
      "execution_count": 26,
      "outputs": [
        {
          "execution_count": 26,
          "output_type": "execute_result",
          "data": {
            "text/plain": "'MIS*'"
          },
          "metadata": {}
        }
      ],
      "id": "1be58adf-b105-4794-b0c9-cd8b210bfb91"
    },
    {
      "cell_type": "code",
      "source": "# View our codon table\nfrom Bio.Data import CodonTable",
      "metadata": {
        "trusted": true
      },
      "execution_count": 27,
      "outputs": [],
      "id": "6d0e3ee8-43fb-417e-85e2-3fe0faa0e676"
    },
    {
      "cell_type": "code",
      "source": "#Methods\ndir(CodonTable)",
      "metadata": {
        "trusted": true
      },
      "execution_count": 28,
      "outputs": [
        {
          "execution_count": 28,
          "output_type": "execute_result",
          "data": {
            "text/plain": "['AmbiguousCodonTable',\n 'AmbiguousForwardTable',\n 'CodonTable',\n 'IUPACData',\n 'NCBICodonTable',\n 'NCBICodonTableDNA',\n 'NCBICodonTableRNA',\n 'TranslationError',\n '__builtins__',\n '__cached__',\n '__doc__',\n '__file__',\n '__loader__',\n '__name__',\n '__package__',\n '__spec__',\n 'ambiguous_dna_by_id',\n 'ambiguous_dna_by_name',\n 'ambiguous_generic_by_id',\n 'ambiguous_generic_by_name',\n 'ambiguous_rna_by_id',\n 'ambiguous_rna_by_name',\n 'generic_by_id',\n 'generic_by_name',\n 'list_ambiguous_codons',\n 'list_possible_proteins',\n 'make_back_table',\n 'register_ncbi_table',\n 'standard_dna_table',\n 'standard_rna_table',\n 'unambiguous_dna_by_id',\n 'unambiguous_dna_by_name',\n 'unambiguous_rna_by_id',\n 'unambiguous_rna_by_name']"
          },
          "metadata": {}
        }
      ],
      "id": "80deb1db-47bd-4f81-8e05-7129582d2465"
    },
    {
      "cell_type": "code",
      "source": "#DNA table\nprint(CodonTable.unambiguous_dna_by_name['Standard'])",
      "metadata": {
        "trusted": true
      },
      "execution_count": 31,
      "outputs": [
        {
          "name": "stdout",
          "text": "Table 1 Standard, SGC0\n\n  |  T      |  C      |  A      |  G      |\n--+---------+---------+---------+---------+--\nT | TTT F   | TCT S   | TAT Y   | TGT C   | T\nT | TTC F   | TCC S   | TAC Y   | TGC C   | C\nT | TTA L   | TCA S   | TAA Stop| TGA Stop| A\nT | TTG L(s)| TCG S   | TAG Stop| TGG W   | G\n--+---------+---------+---------+---------+--\nC | CTT L   | CCT P   | CAT H   | CGT R   | T\nC | CTC L   | CCC P   | CAC H   | CGC R   | C\nC | CTA L   | CCA P   | CAA Q   | CGA R   | A\nC | CTG L(s)| CCG P   | CAG Q   | CGG R   | G\n--+---------+---------+---------+---------+--\nA | ATT I   | ACT T   | AAT N   | AGT S   | T\nA | ATC I   | ACC T   | AAC N   | AGC S   | C\nA | ATA I   | ACA T   | AAA K   | AGA R   | A\nA | ATG M(s)| ACG T   | AAG K   | AGG R   | G\n--+---------+---------+---------+---------+--\nG | GTT V   | GCT A   | GAT D   | GGT G   | T\nG | GTC V   | GCC A   | GAC D   | GGC G   | C\nG | GTA V   | GCA A   | GAA E   | GGA G   | A\nG | GTG V   | GCG A   | GAG E   | GGG G   | G\n--+---------+---------+---------+---------+--\n",
          "output_type": "stream"
        }
      ],
      "id": "4cc95967-1305-4856-8ee5-096b6767491f"
    },
    {
      "cell_type": "code",
      "source": "#RNA table\nprint(CodonTable.unambiguous_rna_by_name['Standard'])",
      "metadata": {
        "trusted": true
      },
      "execution_count": 32,
      "outputs": [
        {
          "name": "stdout",
          "text": "Table 1 Standard, SGC0\n\n  |  U      |  C      |  A      |  G      |\n--+---------+---------+---------+---------+--\nU | UUU F   | UCU S   | UAU Y   | UGU C   | U\nU | UUC F   | UCC S   | UAC Y   | UGC C   | C\nU | UUA L   | UCA S   | UAA Stop| UGA Stop| A\nU | UUG L(s)| UCG S   | UAG Stop| UGG W   | G\n--+---------+---------+---------+---------+--\nC | CUU L   | CCU P   | CAU H   | CGU R   | U\nC | CUC L   | CCC P   | CAC H   | CGC R   | C\nC | CUA L   | CCA P   | CAA Q   | CGA R   | A\nC | CUG L(s)| CCG P   | CAG Q   | CGG R   | G\n--+---------+---------+---------+---------+--\nA | AUU I   | ACU T   | AAU N   | AGU S   | U\nA | AUC I   | ACC T   | AAC N   | AGC S   | C\nA | AUA I   | ACA T   | AAA K   | AGA R   | A\nA | AUG M(s)| ACG T   | AAG K   | AGG R   | G\n--+---------+---------+---------+---------+--\nG | GUU V   | GCU A   | GAU D   | GGU G   | U\nG | GUC V   | GCC A   | GAC D   | GGC G   | C\nG | GUA V   | GCA A   | GAA E   | GGA G   | A\nG | GUG V   | GCG A   | GAG E   | GGG G   | G\n--+---------+---------+---------+---------+--\n",
          "output_type": "stream"
        }
      ],
      "id": "334f0c81-8407-46e4-b444-822e4a388d72"
    },
    {
      "cell_type": "code",
      "source": "",
      "metadata": {},
      "execution_count": null,
      "outputs": [],
      "id": "63fcc3fc-c2bd-4102-8d31-723a841ab0b4"
    }
  ]
}