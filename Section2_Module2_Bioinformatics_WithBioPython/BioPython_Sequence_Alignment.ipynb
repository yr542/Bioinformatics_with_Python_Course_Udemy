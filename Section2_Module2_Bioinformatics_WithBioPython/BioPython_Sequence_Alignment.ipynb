{
 "cells": [
  {
   "cell_type": "markdown",
   "id": "4ddbfd76-c5aa-475e-84e4-d1b462d47996",
   "metadata": {},
   "source": [
    "# Sequence Alignment \n",
    "\n",
    "+ Sequence alignment is a method of arranging DNA, RNA or Amino Acids or proteins to identify regions of sumilarity\n",
    "+ The similarity being identified, may be the result of functional, structural, or evolutionary relationships\n",
    "+ It is useful to identify similarity and homology\n",
    "+ Homology: decent from a common ancestor or source\n",
    "\n",
    "# Terms \n",
    "\n",
    "+ Matches\n",
    "+ Mismatches\n",
    "+ Gap\n",
    "\n",
    "# Alignment Types \n",
    "\n",
    "+ Global alignment: finds the best concordance between all characters in 2 sequences\n",
    "    + Mostly from end to end\n",
    "    + By Needle\n",
    "    \n",
    "+ Local Alignment: finds just the subsequences that align best\n",
    "    + In this methods, we condider subsequences within each of the 2 sequences and try to match them to obtain the best alignmnet\n",
    "    + By Water\n",
    "    \n",
    "# Whern to use local alignment\n",
    "\n",
    "+ 2 sequences have a small matched region\n",
    "+ 2 sequences are different lengths\n",
    "+ Overlapping sequecnes\n",
    "+ One sequence is a subsequence of the other\n",
    "+ Blast\n",
    "+ Emboss\n",
    "    "
   ]
  },
  {
   "cell_type": "code",
   "execution_count": 7,
   "id": "6adadbbe-30d6-4eac-b493-5c90418549de",
   "metadata": {},
   "outputs": [],
   "source": [
    "from Bio.Seq import Seq"
   ]
  },
  {
   "cell_type": "code",
   "execution_count": 8,
   "id": "e72eb94c-8516-4e8b-89a1-1bbf4d84f85e",
   "metadata": {},
   "outputs": [],
   "source": [
    "from Bio import pairwise2\n",
    "from Bio.pairwise2 import format_alignment"
   ]
  },
  {
   "cell_type": "code",
   "execution_count": 9,
   "id": "c6148658-c723-4018-bb67-b9e9a2f716c3",
   "metadata": {},
   "outputs": [],
   "source": [
    "seq1 = Seq('ACTCGT')\n",
    "seq2 = Seq('ATTCG')"
   ]
  },
  {
   "cell_type": "code",
   "execution_count": 10,
   "id": "c905b1df-3793-4e35-8a44-f5234134ea5c",
   "metadata": {},
   "outputs": [],
   "source": [
    "# Global Alignment\n",
    "alignments = pairwise2.align.globalxx(seq1, seq2)"
   ]
  },
  {
   "cell_type": "code",
   "execution_count": 11,
   "id": "690b2bd0-ddde-4465-995b-b3bbb81d9123",
   "metadata": {},
   "outputs": [
    {
     "data": {
      "text/plain": [
       "[Alignment(seqA='ACT-CGT', seqB='A-TTCG-', score=4.0, start=0, end=7),\n",
       " Alignment(seqA='AC-TCGT', seqB='A-TTCG-', score=4.0, start=0, end=7),\n",
       " Alignment(seqA='ACTCGT', seqB='ATTCG-', score=4.0, start=0, end=6)]"
      ]
     },
     "execution_count": 11,
     "metadata": {},
     "output_type": "execute_result"
    }
   ],
   "source": [
    "alignments"
   ]
  },
  {
   "cell_type": "code",
   "execution_count": 12,
   "id": "aee76a7e-5628-4746-a7d0-21294e0591b2",
   "metadata": {},
   "outputs": [
    {
     "name": "stdout",
     "output_type": "stream",
     "text": [
      "ACT-CGT\n",
      "| | || \n",
      "A-TTCG-\n",
      "  Score=4\n",
      "\n"
     ]
    }
   ],
   "source": [
    "# To display the alignment\n",
    "\n",
    "print(format_alignment(*alignments[0]))"
   ]
  },
  {
   "cell_type": "code",
   "execution_count": 14,
   "id": "4aeed824-dc16-4162-951c-14ef7d58981f",
   "metadata": {},
   "outputs": [],
   "source": [
    "# Global Alignment\n",
    "loc_alignments = pairwise2.align.localxx(seq1, seq2)"
   ]
  },
  {
   "cell_type": "code",
   "execution_count": 16,
   "id": "bbfac656-9ce6-4a42-acae-1495c58fb7c8",
   "metadata": {},
   "outputs": [
    {
     "name": "stdout",
     "output_type": "stream",
     "text": [
      "1 ACT-CG\n",
      "  | | ||\n",
      "1 A-TTCG\n",
      "  Score=4\n",
      "\n",
      "1 AC-TCG\n",
      "  |  |||\n",
      "1 A-TTCG\n",
      "  Score=4\n",
      "\n",
      "1 ACTCG\n",
      "  |.|||\n",
      "1 ATTCG\n",
      "  Score=4\n",
      "\n"
     ]
    }
   ],
   "source": [
    "for a in loc_alignments:\n",
    "    print(format_alignment(*a))"
   ]
  },
  {
   "cell_type": "code",
   "execution_count": 21,
   "id": "caeae0d1-1668-4e8e-8a93-db63e7530b07",
   "metadata": {},
   "outputs": [],
   "source": [
    "# get the alignment by only the score\n",
    "\n",
    "alignment2 = pairwise2.align.globalxx(seq1,seq2, one_alignment_only = True, score_only = True)"
   ]
  },
  {
   "cell_type": "code",
   "execution_count": 22,
   "id": "5d6b0650-32c1-48c5-b3f6-adb0abf551ca",
   "metadata": {},
   "outputs": [
    {
     "data": {
      "text/plain": [
       "4.0"
      ]
     },
     "execution_count": 22,
     "metadata": {},
     "output_type": "execute_result"
    }
   ],
   "source": [
    "alignment2"
   ]
  },
  {
   "cell_type": "markdown",
   "id": "96815d9c-bb83-4415-b819-298ef316299d",
   "metadata": {},
   "source": [
    "# Check for similarity of percentage of similarity using Alignment\n",
    "\n",
    "+ fraction of nucleotides that is the same/total number of nucleotides * 100 %"
   ]
  },
  {
   "cell_type": "code",
   "execution_count": 23,
   "id": "7ba74751-2f35-4a13-9d1b-b4aa8023bdb4",
   "metadata": {},
   "outputs": [
    {
     "data": {
      "text/plain": [
       "Seq('ACTCGT')"
      ]
     },
     "execution_count": 23,
     "metadata": {},
     "output_type": "execute_result"
    }
   ],
   "source": [
    "seq1"
   ]
  },
  {
   "cell_type": "code",
   "execution_count": 25,
   "id": "79e9f621-43e0-4a7e-861f-553044d4ffd7",
   "metadata": {},
   "outputs": [
    {
     "data": {
      "text/plain": [
       "Seq('ATTCG')"
      ]
     },
     "execution_count": 25,
     "metadata": {},
     "output_type": "execute_result"
    }
   ],
   "source": [
    "seq2"
   ]
  },
  {
   "cell_type": "code",
   "execution_count": 24,
   "id": "641edd5a-ed89-425d-870f-5c7f40dc8d82",
   "metadata": {},
   "outputs": [
    {
     "data": {
      "text/plain": [
       "66.66666666666666"
      ]
     },
     "execution_count": 24,
     "metadata": {},
     "output_type": "execute_result"
    }
   ],
   "source": [
    "alignment2/len(seq1) * 100"
   ]
  },
  {
   "cell_type": "code",
   "execution_count": 29,
   "id": "59af622f-4005-4281-9287-f03f70f51b35",
   "metadata": {},
   "outputs": [],
   "source": [
    "# Get the alignment by only the score\n",
    "\n",
    "loc_alignment2 = pairwise2.align.localxx(seq1, seq2,  one_alignment_only = True, score_only = True)"
   ]
  },
  {
   "cell_type": "code",
   "execution_count": 30,
   "id": "e2a8f026-803c-4110-929d-639bab4d0e86",
   "metadata": {},
   "outputs": [
    {
     "data": {
      "text/plain": [
       "66.66666666666666"
      ]
     },
     "execution_count": 30,
     "metadata": {},
     "output_type": "execute_result"
    }
   ],
   "source": [
    "loc_alignment2/len(seq1) * 100"
   ]
  },
  {
   "cell_type": "markdown",
   "id": "36232748-bf2e-43df-b52e-577e81e8a8af",
   "metadata": {},
   "source": [
    "### Find out all the possible global alignments with the maximum similarity  score\n",
    "\n",
    "+ Matching characters : 2 points\n",
    "+ Each mismatching character : -1 point\n",
    "+ 0.5 points are deducted when opening a gap,\n",
    "+ 0.1 points are deducted with extending it"
   ]
  },
  {
   "cell_type": "code",
   "execution_count": 33,
   "id": "64780935-62f5-491b-913a-c842be9c1d88",
   "metadata": {},
   "outputs": [],
   "source": [
    "# Globsl alignment with max sim\n",
    "glb_alignment = pairwise2.align.globalms(seq1,seq2, 2, -1, -0.5, -0.1)"
   ]
  },
  {
   "cell_type": "code",
   "execution_count": 34,
   "id": "2a86254e-6c6a-45c8-aa2b-132462ee895d",
   "metadata": {},
   "outputs": [
    {
     "name": "stdout",
     "output_type": "stream",
     "text": [
      "ACT-CGT\n",
      "| | || \n",
      "A-TTCG-\n",
      "  Score=6.5\n",
      "\n",
      "AC-TCGT\n",
      "|  ||| \n",
      "A-TTCG-\n",
      "  Score=6.5\n",
      "\n",
      "ACTCGT\n",
      "|.||| \n",
      "ATTCG-\n",
      "  Score=6.5\n",
      "\n"
     ]
    }
   ],
   "source": [
    "# View all\n",
    "for a in glb_alignment:\n",
    "    print(format_alignment(*a))"
   ]
  },
  {
   "cell_type": "code",
   "execution_count": null,
   "id": "67b104e9-797b-4c95-97c2-056e51bd1c37",
   "metadata": {},
   "outputs": [],
   "source": []
  }
 ],
 "metadata": {
  "kernelspec": {
   "display_name": "Python 3 (ipykernel)",
   "language": "python",
   "name": "python3"
  },
  "language_info": {
   "codemirror_mode": {
    "name": "ipython",
    "version": 3
   },
   "file_extension": ".py",
   "mimetype": "text/x-python",
   "name": "python",
   "nbconvert_exporter": "python",
   "pygments_lexer": "ipython3",
   "version": "3.9.12"
  }
 },
 "nbformat": 4,
 "nbformat_minor": 5
}
