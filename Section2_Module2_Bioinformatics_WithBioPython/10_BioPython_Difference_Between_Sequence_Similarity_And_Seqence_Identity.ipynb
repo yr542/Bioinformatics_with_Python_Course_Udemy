{
 "cells": [
  {
   "cell_type": "markdown",
   "id": "5492e8d6-f62e-41b1-904a-e7c61161fdea",
   "metadata": {},
   "source": [
    "# Checking for Similarity Between Sequences\n",
    "\n",
    "+ Sequence alignment\n",
    "    + Dynamic Programming (Global/Local ( needle/water ) )\n",
    "    + Dotplot\n",
    "+ Similarity: resemblance between 2 sequences in comparison\n",
    "    + the minimal number of edit operations (insert, deletes, and substitutions) in order to transform the one sequence into an exact copy of the other sequence being aligned\n",
    "    + distance\n",
    "+ Identity: the number of characters that match EXACTLY between 2 different sequences\n",
    "     + Gaps are mot counted\n",
    "     + The measurement is relational to the shorter of the 2 sequences\n",
    "     + This has the effect that sequene identity is not transitive, i.e.\n",
    "         + if sequence A = B and B = C then A is not necessarily equal to C (in terms of the identity distance measure):\n",
    "+ A : AAGGCTT\n",
    "+ B : AAGGC\n",
    "+ C : AAGGCAT"
   ]
  },
  {
   "cell_type": "code",
   "execution_count": 20,
   "id": "b756ae2d-a9bd-41aa-bff5-bfcfa2f5750e",
   "metadata": {},
   "outputs": [],
   "source": [
    "import Bio"
   ]
  },
  {
   "cell_type": "code",
   "execution_count": 21,
   "id": "c7f21cbc-5af4-4136-8216-8e2fb05b9f0d",
   "metadata": {},
   "outputs": [],
   "source": [
    "from Bio.Seq import Seq"
   ]
  },
  {
   "cell_type": "code",
   "execution_count": 22,
   "id": "2e9d5e84-11fa-4bd8-8060-1f28f8ae69b6",
   "metadata": {},
   "outputs": [],
   "source": [
    "from Bio import pairwise2"
   ]
  },
  {
   "cell_type": "code",
   "execution_count": 23,
   "id": "fd7cb040-acdb-4ed3-a4e4-c4aab8ef8136",
   "metadata": {},
   "outputs": [],
   "source": [
    "seqA = Seq('AAGGCTT')\n",
    "seqB = Seq('AAGGC')\n",
    "seqC = Seq('AAGGCAT')"
   ]
  },
  {
   "cell_type": "code",
   "execution_count": 27,
   "id": "af745b25-c792-43bc-a447-956e835a4d5b",
   "metadata": {},
   "outputs": [],
   "source": [
    "AvB = pairwise2.align.localxx(seqA, seqB, one_alignment_only = True, score_only = True)\n",
    "BvC = pairwise2.align.localxx(seqB, seqC, one_alignment_only = True, score_only = True)\n",
    "AvC = pairwise2.align.localxx(seqA, seqC, one_alignment_only = True, score_only = True)"
   ]
  },
  {
   "cell_type": "code",
   "execution_count": 28,
   "id": "b8266a24-fb4d-4708-bc26-90494658a072",
   "metadata": {},
   "outputs": [
    {
     "name": "stdout",
     "output_type": "stream",
     "text": [
      "AvB 100.0\n"
     ]
    }
   ],
   "source": [
    "print(\"AvB\", AvB/len(seqB) * 100)"
   ]
  },
  {
   "cell_type": "markdown",
   "id": "b700f0fe-c5e1-42b9-802d-8ee009dcfbc4",
   "metadata": {},
   "source": [
    "### Narrative\n",
    "\n",
    "+ Seq A & Seq B are 100 percent identical"
   ]
  },
  {
   "cell_type": "code",
   "execution_count": 30,
   "id": "c7638c93-9973-4339-a083-ae289e6bb551",
   "metadata": {},
   "outputs": [
    {
     "name": "stdout",
     "output_type": "stream",
     "text": [
      "BvC 100.0\n"
     ]
    }
   ],
   "source": [
    "print(\"BvC\", BvC/len(seqB) * 100)"
   ]
  },
  {
   "cell_type": "markdown",
   "id": "e2c7da4f-6890-479a-9fff-6f5a66813db3",
   "metadata": {},
   "source": [
    "### Narrative\n",
    "\n",
    "+ Seq B & Seq C are 100 percent identical"
   ]
  },
  {
   "cell_type": "code",
   "execution_count": 32,
   "id": "a106f950-e0f1-4f8f-a388-194fd0bfdb22",
   "metadata": {},
   "outputs": [
    {
     "name": "stdout",
     "output_type": "stream",
     "text": [
      "AvC 85.71428571428571\n"
     ]
    }
   ],
   "source": [
    "print(\"AvC\", AvC/len(seqC) * 100)"
   ]
  },
  {
   "cell_type": "markdown",
   "id": "30738dfc-c20b-411b-9be3-c86d5b853ec7",
   "metadata": {},
   "source": [
    "### Narrative\n",
    "\n",
    "+ Seq B & Seq C are ~ 85  percent identical"
   ]
  },
  {
   "cell_type": "code",
   "execution_count": null,
   "id": "6729c638-0bff-4f2d-8109-485691b54656",
   "metadata": {},
   "outputs": [],
   "source": [
    "# Check if same\n",
    "\n",
    "Seq "
   ]
  }
 ],
 "metadata": {
  "kernelspec": {
   "display_name": "Python 3 (ipykernel)",
   "language": "python",
   "name": "python3"
  },
  "language_info": {
   "codemirror_mode": {
    "name": "ipython",
    "version": 3
   },
   "file_extension": ".py",
   "mimetype": "text/x-python",
   "name": "python",
   "nbconvert_exporter": "python",
   "pygments_lexer": "ipython3",
   "version": "3.9.12"
  }
 },
 "nbformat": 4,
 "nbformat_minor": 5
}
